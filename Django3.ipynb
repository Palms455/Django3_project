{
 "cells": [
  {
   "cell_type": "code",
   "execution_count": null,
   "metadata": {},
   "outputs": [],
   "source": [
    "1 Виртуальное окружение python(3) venv -m folder\n",
    "2 source/bin/activate  ### folder\\Scripts\\activate.bat\n",
    "3 Установка зависимостей pip install -r requirements.txt\n",
    "4 Созание django  django-admin startproject  @name\n",
    "5 Создание приложения python manage.py startapp @name\n",
    "6 Запуск Сервера: python manage.py runserver\n",
    "в django3 появился asgi - наследник wsgi это стандарт как для синхронных так и для асинхронных приложений\n",
    "Паттерн Model View Template - Model View Controller\n",
    "\n",
    "Urls.py- представляет собой роутинг запросов/ связывает url и приложения\n",
    "1 Создание таблицы баззы данных\n",
    "sudo -u postgres psql postgres - run root user\n",
    "\\password postgres - pass admin\n",
    "\n",
    " create user user_name with password 'password';\n",
    "    alter role user_name set client_encoding to 'utf8';\n",
    "    alter role user_name set default_transaction_isolation to 'read committed';\n",
    "    alter role user_name set timezone to 'UTC';\n",
    "    \n",
    "Создание бд для джанго проекта:\n",
    "create database django_db owner user_name;\n",
    "\n",
    "В окружении проекта устанавливаем бэкэнд для PostgreSQL\n",
    "\n",
    "pip install psycopg2\n",
    "\n",
    "Последний наш шаг - настроить раздел DATABASES конфигурационного файла проекта settings.py\n",
    "\n",
    "'ENGINE': 'django.db.backends.postgresql_psycopg2',\n",
    "'NAME': 'django_db',\n",
    "'USER' : 'user_name',\n",
    "'PASSWORD' : 'password',\n",
    "'HOST' : '127.0.0.1',\n",
    "'PORT' : '5432',"
   ]
  },
  {
   "cell_type": "code",
   "execution_count": null,
   "metadata": {},
   "outputs": [],
   "source": [
    "После добавления моделей Зарегистрируем их в admin.py\n",
    "from django.contrib import admin\n",
    "from .models import *\n",
    "\n",
    "admin.site.register(Category)\n",
    "admin.site.register(Genre)\n",
    "admin.site.register(Movie)\n",
    "admin.site.register(Actors)\n",
    "admin.site.register(MovieShots)\n",
    "admin.site.register(Rating)\n",
    "admin.site.register(RatingStar)\n",
    "admin.site.register(Reviews)\n"
   ]
  },
  {
   "cell_type": "code",
   "execution_count": null,
   "metadata": {},
   "outputs": [],
   "source": [
    "Создадим суперпользователя:\n",
    "python manage.py createsuperuser\n",
    "rustam\n",
    "1514150Ee\n",
    "в settings.py language_code = 'ru'\n"
   ]
  },
  {
   "cell_type": "code",
   "execution_count": null,
   "metadata": {},
   "outputs": [],
   "source": [
    "Для того, чтобы картинки грузились в одну папку отредактируем settings.py\n",
    "MEDIA_URL = '/media/'\n",
    "MEDIA_ROOT = os.path.join(BASE_DIR, 'media')\n",
    "в корневой папке оздается папка media\n",
    "{% for img in item.imageofitem_set.all %}\n",
    "    <img src=\"{{ img.picture.url }}\"><br>\n",
    "{% endfor %}\n",
    "Чтобы в режиме DEBUGсервак раздавал картинки, нужно в корневой папке в urls.py добавить:\n",
    "from django.conf import settings\n",
    "from django.conf.urls.static import static\n",
    "\n",
    "if settings.DEBUG:\n",
    "    urlpatterns += static(settings.MEDIA_URL, document_root=settings.MEDIA_ROOT)\n"
   ]
  },
  {
   "cell_type": "code",
   "execution_count": null,
   "metadata": {},
   "outputs": [],
   "source": [
    "Редактируем Views\n",
    "from django.views.generic.base import View\n",
    "from .models import Movie\n",
    "Простейшая реальзация состоит из функций/\n",
    "Но лучше сразу определять классы\n",
    "from django.shortcuts import render\n",
    "\n",
    "class MoviesView(View):\n",
    "\t'''List of movie'''\n",
    "\tdef get(self, request):\n",
    "\t\tmovies = Movie.objects.all()\n",
    "\t\tdata = {'movie_list': movies}\n",
    "\t\treturn render(request, 'movies/movie_list.html' context=data)"
   ]
  },
  {
   "cell_type": "code",
   "execution_count": null,
   "metadata": {},
   "outputs": [],
   "source": [
    "в папке templates создаем  шаблон \n",
    "\n",
    "в других шаблонах расширяем его: {% extends 'base.html' %}\n",
    "    также в базовом шаблоне прописывае тэги\n",
    "    {% block title %}{% endblock %}\n",
    "    {% block content %}{% endblock %}\n",
    "куда встяавляем содержимое \n",
    "\n",
    "перенаправляем url \n",
    "создадим url  в самом приложении\n",
    "from django.urls import path\n",
    "from . import views\n",
    "urlpattern = [\n",
    "    path('', views.MovieView.as_view()) - Главная страница направляется в класс MovieView\n",
    "]\n",
    "\n",
    "\n",
    "в файле urls.py корневой папки Django определим маршрутизацию на urls нашего приложения\n",
    "from django.conf import settings\n",
    "from django.conf.urls.static import static\n",
    "from django.contrib import admin\n",
    "from django.urls import path, include\n",
    "\n",
    "urlpatterns = [\n",
    "    path('admin/', admin.site.urls),\n",
    "    path(\"\", include(\"movies.urls\")),\n",
    "]\n",
    "\n"
   ]
  },
  {
   "cell_type": "code",
   "execution_count": null,
   "metadata": {},
   "outputs": [],
   "source": [
    "Поключим шаблон\n",
    "В корне проекта создадим директорию STATIC\n",
    "укажим папку в настройки settings\n",
    "STATIC_DIR=os.path.join(BASE_DIR, 'static')\n",
    "STATICFILES_DIRS=[STATIC_DIR]"
   ]
  },
  {
   "cell_type": "code",
   "execution_count": null,
   "metadata": {},
   "outputs": [],
   "source": [
    "В шаблоне укажем {% load static %}\n",
    "в ссылках href укажем {% static путь к директории и самому файлу не указывая на статик папку %}\n",
    "\n",
    "Переход на страницу одного фильма, поста!\n",
    "для перехода на страницу фильма нужно прописать slug или pk  ссылку\n",
    "urlpattern = [\n",
    "    path('', views.MovieView.as_view()) - Главная страница направляется в класс MovieView\n",
    "    path('<slug:slug>/' views.MovieDetailView.as_view)\n",
    "    path('<ind:pk>/')\n",
    "    \n",
    "]\n",
    "\n",
    "\n",
    "Данный slug будет передан в метод get views\n",
    "на ссылке можно сделать так:\n",
    "    <a href='/{{ movie.url }}/'\n",
    "    или так:\n",
    "    <a href='/{% url 'movie_detail' {{movie.url}} %}/' а в urls указать name='movie_detail'\n",
    "    Более правильный способ:\n",
    "        в models.py в классе таблицы указать \n",
    "        def get_absolute_url(self):\n",
    "            return reverse('movie_detail', kwargs= {'slug': self.url})\n",
    "        а в теге <a href='{{ movie.get_absolute_url }}'\n",
    "    "
   ]
  },
  {
   "cell_type": "code",
   "execution_count": null,
   "metadata": {},
   "outputs": [],
   "source": [
    "Во views.py записываем 2 класса\n",
    "class MoviesView(View):\n",
    "    def get(self, request):\n",
    "        movies = Movie.objects.all()\n",
    "        return render(request, 'movies/movies.html', {'movie_list': movies})\n",
    "    \n",
    "class MovieDetailView(View):\n",
    "    def get(self, request, slug):\n",
    "        movie = Movie.objects.get(url=slug)\n",
    "        return render(request, 'movies/movie_detail.html', {'movie': movie})\n",
    "    \n",
    "Данные классы можно заменить следующими классами\n",
    "\n",
    "from django.views.generic import ListView, DetailView\n",
    "from django.views.generic.base import View\n",
    "\n",
    "class MoviesView(ListView):\n",
    "    \"\"\"Список фильмов\"\"\"\n",
    "    model = Movie - модель\n",
    "    queryset = Movie.objects.filter(draft=False)\n",
    "    template_name = 'movies/movies.html'\n",
    "\n",
    "class MovieDetailView(DetailView):\n",
    "    \"\"\"Полное описание фильма\"\"\"\n",
    "    model = Movie\n",
    "    slug_field = \"url\"\n",
    "    \n",
    "    тут мы не указали шаблон -т.к. он автоматически подставляет суффикс detail в модель movie\n"
   ]
  },
  {
   "cell_type": "code",
   "execution_count": null,
   "metadata": {},
   "outputs": [],
   "source": []
  },
  {
   "cell_type": "code",
   "execution_count": null,
   "metadata": {},
   "outputs": [],
   "source": []
  },
  {
   "cell_type": "code",
   "execution_count": null,
   "metadata": {},
   "outputs": [],
   "source": []
  },
  {
   "cell_type": "code",
   "execution_count": null,
   "metadata": {},
   "outputs": [],
   "source": []
  },
  {
   "cell_type": "code",
   "execution_count": null,
   "metadata": {},
   "outputs": [],
   "source": []
  },
  {
   "cell_type": "code",
   "execution_count": null,
   "metadata": {},
   "outputs": [],
   "source": []
  },
  {
   "cell_type": "code",
   "execution_count": null,
   "metadata": {},
   "outputs": [],
   "source": []
  }
 ],
 "metadata": {
  "kernelspec": {
   "display_name": "Python 3",
   "language": "python",
   "name": "python3"
  },
  "language_info": {
   "codemirror_mode": {
    "name": "ipython",
    "version": 3
   },
   "file_extension": ".py",
   "mimetype": "text/x-python",
   "name": "python",
   "nbconvert_exporter": "python",
   "pygments_lexer": "ipython3",
   "version": "3.7.3"
  }
 },
 "nbformat": 4,
 "nbformat_minor": 2
}
